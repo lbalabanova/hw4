{
 "cells": [
  {
   "cell_type": "markdown",
   "metadata": {},
   "source": [
    "Домашнее задание к лекции \"Функции\"\n"
   ]
  },
  {
   "cell_type": "markdown",
   "metadata": {},
   "source": [
    "Вам нужно помочь секретарю автоматизировать работу. Для этого нужно написать программу, которая будет на основе хранимых данных исполнять пользовательские команды."
   ]
  },
  {
   "cell_type": "code",
   "execution_count": null,
   "metadata": {},
   "outputs": [],
   "source": [
    "# Исходные данные\n",
    "\n",
    "documents = [\n",
    " {'type': 'passport', 'number': '2207 876234', 'name': 'Василий Гупкин'},\n",
    " {'type': 'invoice', 'number': '11-2', 'name': 'Геннадий Покемонов'},\n",
    " {'type': 'insurance', 'number': '10006', 'name': 'Аристарх Павлов'}\n",
    "]\n",
    "\n",
    "directories = {\n",
    " '1': ['2207 876234', '11-2'],\n",
    " '2': ['10006'],\n",
    " '3': []\n",
    "}"
   ]
  },
  {
   "cell_type": "markdown",
   "metadata": {},
   "source": [
    "Задание 1\n",
    "Пункт 1. Пользователь по команде \"p\" может узнать владельца документа по его номеру"
   ]
  },
  {
   "cell_type": "code",
   "execution_count": null,
   "metadata": {},
   "outputs": [],
   "source": [
    "def doc_in_base(doc_num): #функция проверки наличия документа в базе documents (вспомогательная функция)\n",
    "    \"\"\"\n",
    "    Возвращает True, если документ присутствует в базе documents\n",
    "    Если документ не найден, то возвращает False\n",
    "    \"\"\"\n",
    "    is_found = False\n",
    "    for docs in documents:\n",
    "        if docs['number'] == doc_num: \n",
    "            is_found = True\n",
    "            break\n",
    "        else: \n",
    "            is_found = False\n",
    "    return is_found"
   ]
  },
  {
   "cell_type": "code",
   "execution_count": null,
   "metadata": {},
   "outputs": [],
   "source": [
    "#doc_in_base('11-2')"
   ]
  },
  {
   "cell_type": "code",
   "execution_count": null,
   "metadata": {},
   "outputs": [],
   "source": [
    "def doc_name(): #функция поиска владельца документа по номеру\n",
    "    \"\"\"\n",
    "    Запрашивает номер документа и возвращает соответствующее значение имени владельца\n",
    "    Если документ не найден в базе, то пишет соответствующий текст\n",
    "    \"\"\"\n",
    "    doc_num = input('Введите номер документа: ')\n",
    "    if doc_in_base(doc_num) == True:\n",
    "        for docs in documents:\n",
    "            if docs['number'] == doc_num:\n",
    "                print('Владелец документа:', docs['name'])\n",
    "    else: print('Документ не найден в базе')"
   ]
  },
  {
   "cell_type": "code",
   "execution_count": null,
   "metadata": {},
   "outputs": [],
   "source": [
    "#doc_name()"
   ]
  },
  {
   "cell_type": "markdown",
   "metadata": {},
   "source": [
    "Пункт 2. Пользователь по команде \"s\" может по номеру документа узнать на какой полке он хранится"
   ]
  },
  {
   "cell_type": "code",
   "execution_count": null,
   "metadata": {},
   "outputs": [],
   "source": [
    "def find_shelf(doc): #функция поиска полки, где хранится документ, по его номеру (вспомогательная функция)\n",
    "    \"\"\"\n",
    "    По номеру документа, указанному в виде параметра, возвращает соответствующий номер полки\n",
    "    \"\"\"\n",
    "    for shelf, doc_list in directories.items():\n",
    "        if doc in doc_list: return shelf\n",
    "  "
   ]
  },
  {
   "cell_type": "code",
   "execution_count": null,
   "metadata": {},
   "outputs": [],
   "source": [
    "def doc_shelf(): #функция вывода полки, где хранится документ, по его номеру\n",
    "    \"\"\"\n",
    "    Запрашивает номер документа и возвращает соответствующий номер полки\n",
    "    Если документ не найден в базе, то пишет соответствующий текст\n",
    "    \"\"\"\n",
    "    doc_num = input('Введите номер документа: ')\n",
    "    if doc_in_base(doc_num) == True:\n",
    "        shelf = find_shelf(doc_num)\n",
    "        print('Документ хранится на полке:', shelf)\n",
    "    else: print('Документ не найден в базе')\n",
    "    \n"
   ]
  },
  {
   "cell_type": "code",
   "execution_count": null,
   "metadata": {},
   "outputs": [],
   "source": [
    "#doc_shelf()"
   ]
  },
  {
   "cell_type": "markdown",
   "metadata": {},
   "source": [
    "Пункт 3. Пользователь по команде \"l\" может увидеть полную информацию по всем документам"
   ]
  },
  {
   "cell_type": "code",
   "execution_count": null,
   "metadata": {},
   "outputs": [],
   "source": [
    "def all_docs(): #функция вывода всей базы\n",
    "    \"\"\"\n",
    "    Возвращает список всех документов с указанием места хранения\n",
    "    в заданном формате\n",
    "    \"\"\"\n",
    "    for docs in documents:\n",
    "        d_n, d_t, d_v = docs['number'], docs['type'], docs['name']\n",
    "        d_s = find_shelf(d_n)\n",
    "        print(f'№: {d_n}, тип: {d_t}, владелец: {d_v}, полка хранения: {d_s}')\n"
   ]
  },
  {
   "cell_type": "code",
   "execution_count": null,
   "metadata": {},
   "outputs": [],
   "source": [
    "#all_docs()"
   ]
  },
  {
   "cell_type": "markdown",
   "metadata": {},
   "source": [
    "Пункт 4. Пользователь по команде \"ads\" может добавить новую полку"
   ]
  },
  {
   "cell_type": "code",
   "execution_count": null,
   "metadata": {},
   "outputs": [],
   "source": [
    "def shelf_in_base(shelf_num): #функция проверки наличия полки в базе directories (вспомогательная функция)\n",
    "    \"\"\"\n",
    "    Возвращает True, если полка присутствует в базе directories\n",
    "    В противном случае возвращает False\n",
    "    \"\"\"\n",
    "    if shelf_num in directories.keys(): return True\n",
    "    else: return False"
   ]
  },
  {
   "cell_type": "code",
   "execution_count": null,
   "metadata": {},
   "outputs": [],
   "source": [
    "#shelf_in_base('3')"
   ]
  },
  {
   "cell_type": "code",
   "execution_count": null,
   "metadata": {},
   "outputs": [],
   "source": [
    "def add_shelf(): #функция добавления новой полки  \n",
    "    \"\"\"\n",
    "    Добавляет новую пустую полку в базу directories\n",
    "    Если полка уже есть, то пишет соответствующий текст\n",
    "    \"\"\"\n",
    "    new_shelf = input('Введите номер полки: ')\n",
    "    if shelf_in_base(new_shelf) == False:\n",
    "        directories[new_shelf] = []\n",
    "        shelf_list = ', '.join(directories.keys())\n",
    "        print(f'Полка добавлена. Текущий перечень полок: {shelf_list}.')\n",
    "    else: \n",
    "        shelf_list = ', '.join(directories.keys())\n",
    "        print(f'Такая полка уже существует. Текущий перечень полок: {shelf_list}.')"
   ]
  },
  {
   "cell_type": "code",
   "execution_count": null,
   "metadata": {},
   "outputs": [],
   "source": [
    "#надо отдельную функцию на вывод перечня полок?"
   ]
  },
  {
   "cell_type": "code",
   "execution_count": null,
   "metadata": {},
   "outputs": [],
   "source": [
    "#add_shelf()"
   ]
  },
  {
   "cell_type": "markdown",
   "metadata": {},
   "source": [
    "Пункт 5. Пользователь по команде \"ds\" может удалить существующую полку из данных (только если она пустая)"
   ]
  },
  {
   "cell_type": "code",
   "execution_count": null,
   "metadata": {},
   "outputs": [],
   "source": [
    "def del_shelf(): #функция удаления пустой полки\n",
    "    \"\"\"\n",
    "    Удаляет пустую полку из базы directories\n",
    "    Если полка не пустая или такой полки нет, то пишет соответствующий текст\n",
    "    \"\"\"\n",
    "    new_shelf = input('Введите номер полки: ')\n",
    "    if shelf_in_base(new_shelf) == True:\n",
    "        if len(directories[new_shelf])== 0:\n",
    "            del directories[new_shelf]\n",
    "            shelf_list = ', '.join(directories.keys())\n",
    "            print(f'Полка удалена. Текущий перечень полок: {shelf_list}.')\n",
    "        else: \n",
    "            shelf_list = ', '.join(directories.keys())\n",
    "            print(f'На полке есть документы, удалите их перед удалением полки. Текущий перечень полок: {shelf_list}.')\n",
    "    else:\n",
    "        shelf_list = ', '.join(directories.keys())\n",
    "        print(f'Такой полки не существует. Текущий перечень полок: {shelf_list}.')"
   ]
  },
  {
   "cell_type": "code",
   "execution_count": null,
   "metadata": {},
   "outputs": [],
   "source": [
    "#del_shelf()"
   ]
  },
  {
   "cell_type": "markdown",
   "metadata": {},
   "source": [
    "Задание 2\n",
    "Пункт 1. Пользователь по команде \"ad\" может добавить новый документ в данные"
   ]
  },
  {
   "cell_type": "code",
   "execution_count": null,
   "metadata": {},
   "outputs": [],
   "source": [
    "def add_doc(): #функция добавления документа на полку\n",
    "    \"\"\"\n",
    "    Добавляет документ на указанную пользователем полку\n",
    "    Если документ уже есть или указанной полки нет, то пишет соответствующий текст\n",
    "    \"\"\"\n",
    "    new_doc_num = input('Введите номер документа:')\n",
    "    new_doc_type = input('Введите тип документа:')\n",
    "    new_doc_name = input('Введите владельца документа:')\n",
    "    new_doc_shelf = input('Введите полку для хранения:')\n",
    "\n",
    "    if shelf_in_base(new_doc_shelf) == True:\n",
    "        if doc_in_base(new_doc_num) == True: print ('Документ с таким номером уже зарегистрирован')\n",
    "        else:\n",
    "            documents.append({'type': new_doc_type, 'number': new_doc_num, 'name': new_doc_name})\n",
    "            directories[new_doc_shelf].append(new_doc_num)\n",
    "            print ('Документ добавлен. Текущий список документов:')\n",
    "            all_docs()\n",
    "    else:\n",
    "        print ('Такой полки не существует. Добавьте полку командой as.')\n",
    "        print ('Текущий список документов:')\n",
    "        all_docs()"
   ]
  },
  {
   "cell_type": "code",
   "execution_count": null,
   "metadata": {},
   "outputs": [],
   "source": [
    "#add_doc()"
   ]
  },
  {
   "cell_type": "markdown",
   "metadata": {},
   "source": [
    "Задание 2\n",
    "Пункт 2. Пользователь по команде “d” может удалить документ из данных"
   ]
  },
  {
   "cell_type": "code",
   "execution_count": null,
   "metadata": {},
   "outputs": [],
   "source": [
    "def del_doc():  #функция удаления документа \n",
    "    \"\"\"\n",
    "    Удаляет документ, если он есть в базе, и из базы документов, и с полок\n",
    "    Если документа нет, то пишет соответствующий текст\n",
    "    \"\"\"\n",
    "    doc_num = input('Введите номер документа: ')\n",
    "    if doc_in_base(doc_num) == True:\n",
    "        for shelf, doc_list in directories.items():\n",
    "            if doc_num in doc_list:\n",
    "                doc_list.remove(doc_num)\n",
    "        for line in documents:\n",
    "            if line['number'] == doc_num: \n",
    "                documents.remove(line)\n",
    "                print('Документ удален')\n",
    "    else: \n",
    "        print('Документ не найден в базе')\n",
    "    print ('Текущий список документов:')\n",
    "    all_docs()\n"
   ]
  },
  {
   "cell_type": "code",
   "execution_count": null,
   "metadata": {},
   "outputs": [],
   "source": [
    "#del_doc()"
   ]
  },
  {
   "cell_type": "code",
   "execution_count": null,
   "metadata": {},
   "outputs": [],
   "source": [
    "# словарь всех комманд для вывода\n",
    "def print_help():\n",
    "    help_dict = {\n",
    "      'p': 'Поиск владельца документа по его номеру',\n",
    "      's': 'Поиск полки хранения документа по его номеру',\n",
    "      'l': 'Вывод информации по всем документам',\n",
    "      'ads': 'Добавить новую полку',\n",
    "      'ds': 'Удалить пустую полку',\n",
    "      'ad': 'Добавить новый документ',\n",
    "      'd': 'Удалить документ',\n",
    "      'm': 'Переместить документ',\n",
    "      'q': 'Выйти из программы',\n",
    "      'h': 'Список всех комманд'\n",
    "    }\n",
    "\n",
    "    \n",
    "    for key, value in help_dict.items():\n",
    "        print(f'Команда {key} выполняет следующеe действие: {value}')\n",
    "\n",
    "\n"
   ]
  },
  {
   "cell_type": "code",
   "execution_count": null,
   "metadata": {},
   "outputs": [],
   "source": [
    "#print_help()"
   ]
  },
  {
   "cell_type": "markdown",
   "metadata": {},
   "source": [
    "Пункт 3. Пользователь по команде “m” может переместить документ с полки на полку"
   ]
  },
  {
   "cell_type": "code",
   "execution_count": null,
   "metadata": {},
   "outputs": [],
   "source": [
    "def move_doc(): #функция перемещения документа на другую полку\n",
    "    \"\"\"\n",
    "    Перемещает документ на указанную пользователем полку\n",
    "    Если документа или указанной полки нет, то пишет соответствующий текст\n",
    "    \"\"\"\n",
    "    new_doc_num = input('Введите номер документа:')\n",
    "    new_doc_shelf = input('Введите полку для хранения:')\n",
    "\n",
    "    if shelf_in_base(new_doc_shelf) == True:\n",
    "        if doc_in_base(new_doc_num) == False: print ('Документ не найден в базе.')\n",
    "        else:\n",
    "            old_shelf = find_shelf(new_doc_num)\n",
    "            directories[old_shelf].remove(new_doc_num)\n",
    "            directories[new_doc_shelf].append(new_doc_num)\n",
    "            print ('Документ перемещен. Текущий список документов:')\n",
    "            all_docs()\n",
    "    else:\n",
    "        shelf_list = ', '.join(directories.keys())\n",
    "        print(f'Такой полки не существует. Текущий перечень полок: {shelf_list}.')\n",
    "        "
   ]
  },
  {
   "cell_type": "code",
   "execution_count": null,
   "metadata": {},
   "outputs": [],
   "source": [
    "#Вариант 1 - более длинный\n",
    "def main(): #главная функция для обработки пользовательских комманд\n",
    "    while True:\n",
    "        com = input('Введите команду (если нужен список всех комманд, введите \"h\"):')\n",
    "        if com == 'q': break\n",
    "        elif com == 'p': doc_name()\n",
    "        elif com == 's': doc_shelf()\n",
    "        elif com == 'l': all_docs()\n",
    "        elif com == 'ads': add_shelf()\n",
    "        elif com == 'ds': del_shelf()\n",
    "        elif com == 'ad': add_doc()\n",
    "        elif com == 'd': del_doc()\n",
    "        elif com == 'm': move_doc()\n",
    "        elif com == 'h': print_help()\n",
    "        else: \n",
    "            print('Команда не найдена, повторите ввод (если нужен список всех комманд, введите \"h\")')"
   ]
  },
  {
   "cell_type": "code",
   "execution_count": 179,
   "metadata": {},
   "outputs": [
    {
     "name": "stdout",
     "output_type": "stream",
     "text": [
      "Введите команду (если нужен список всех комманд, введите \"h\"):q\n"
     ]
    }
   ],
   "source": [
    "main()"
   ]
  },
  {
   "cell_type": "code",
   "execution_count": null,
   "metadata": {},
   "outputs": [],
   "source": []
  },
  {
   "cell_type": "code",
   "execution_count": 180,
   "metadata": {},
   "outputs": [],
   "source": [
    "# Второй вариант главной функции через словарь функций\n",
    "commands_dict = {\n",
    " 'p': doc_name,\n",
    " 's': doc_shelf,\n",
    " 'l': all_docs,\n",
    " 'ads': add_shelf,\n",
    " 'ds': del_shelf,\n",
    " 'ad': add_doc,\n",
    "  'd': del_doc,\n",
    "  'm': move_doc,\n",
    "  'h': print_help\n",
    "}\n",
    "\n",
    "def main2(): #главная функция для обработки пользовательских комманд\n",
    "    while True:\n",
    "        com = input('Введите команду (если нужен список всех комманд, введите \"h\"):')\n",
    "        if com == 'q': break\n",
    "        elif com in commands_dict.keys():\n",
    "            commands_dict[com]()\n",
    "        else: \n",
    "            print('Команда не найдена, повторите ввод (если нужен список всех комманд, введите \"h\")')"
   ]
  },
  {
   "cell_type": "code",
   "execution_count": null,
   "metadata": {},
   "outputs": [
    {
     "name": "stdout",
     "output_type": "stream",
     "text": [
      "Введите команду (если нужен список всех комманд, введите \"h\"):l\n",
      "№: 2207 876234, тип: passport, владелец: Василий Гупкин, полка хранения: 1\n",
      "№: 11-2, тип: invoice, владелец: Геннадий Покемонов, полка хранения: 1\n",
      "№: 10006, тип: insurance, владелец: Аристарх Павлов, полка хранения: 3\n"
     ]
    }
   ],
   "source": [
    "main2()"
   ]
  },
  {
   "cell_type": "code",
   "execution_count": null,
   "metadata": {},
   "outputs": [],
   "source": []
  },
  {
   "cell_type": "code",
   "execution_count": null,
   "metadata": {},
   "outputs": [],
   "source": []
  }
 ],
 "metadata": {
  "kernelspec": {
   "display_name": "Python 3",
   "language": "python",
   "name": "python3"
  },
  "language_info": {
   "codemirror_mode": {
    "name": "ipython",
    "version": 3
   },
   "file_extension": ".py",
   "mimetype": "text/x-python",
   "name": "python",
   "nbconvert_exporter": "python",
   "pygments_lexer": "ipython3",
   "version": "3.8.3"
  }
 },
 "nbformat": 4,
 "nbformat_minor": 4
}
